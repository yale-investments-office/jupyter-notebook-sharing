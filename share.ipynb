{
 "cells": [
  {
   "cell_type": "markdown",
   "metadata": {},
   "source": [
    "# DataFrames, Data Slicing and Visualization Test Notebook\n",
    "\n",
    "This notebook demonstrates:\n",
    "1. Creating and storing data in pandas DataFrames\n",
    "2. Slicing and filtering the data in various ways\n",
    "3. Visualizing the data to extract insights\n",
    "\n",
    "Let's begin by importing the necessary libraries."
   ]
  },
  {
   "cell_type": "code",
   "execution_count": null,
   "metadata": {},
   "outputs": [],
   "source": [
    "# Import necessary libraries\n",
    "import pandas as pd\n",
    "import numpy as np\n",
    "import matplotlib.pyplot as plt\n",
    "import seaborn as sns\n",
    "\n",
    "# Set plot styles\n",
    "plt.style.use('seaborn-whitegrid')\n",
    "sns.set_palette('viridis')\n",
    "%matplotlib inline"
   ]
  },
  {
   "cell_type": "markdown",
   "metadata": {},
   "source": [
    "## Part 1: Creating and Storing Data in DataFrames\n",
    "\n",
    "Let's create some sample data to work with. We'll create a dataset that represents sales data across different regions, products, and time periods."
   ]
  },
  {
   "cell_type": "code",
   "execution_count": null,
   "metadata": {},
   "outputs": [],
   "source": [
    "# Create sample data\n",
    "np.random.seed(42)  # For reproducibility\n",
    "\n",
    "# Define parameters\n",
    "regions = ['North', 'South', 'East', 'West']\n",
    "products = ['Product A', 'Product B', 'Product C']\n",
    "months = pd.date_range(start='2023-01-01', periods=12, freq='M')\n",
    "\n",
    "# Create empty lists to store data\n",
    "data = []\n",
    "\n",
    "# Generate data\n",
    "for region in regions:\n",
    "    for product in products:\n",
    "        for month in months:\n",
    "            # Base sales varying by region and product\n",
    "            base_sales = {\n",
    "                'North': {'Product A': 100, 'Product B': 150, 'Product C': 80},\n",
    "                'South': {'Product A': 120, 'Product B': 90, 'Product C': 110},\n",
    "                'East': {'Product A': 80, 'Product B': 120, 'Product C': 140},\n",
    "                'West': {'Product A': 150, 'Product B': 100, 'Product C': 90}\n",
    "            }\n",
    "            \n",
    "            # Add seasonal variation\n",
    "            month_factor = 1 + 0.2 * np.sin(month.month / 12 * 2 * np.pi)\n",
    "            \n",
    "            # Add random noise\n",
    "            noise = np.random.normal(1, 0.15)\n",
    "            \n",
    "            # Calculate sales\n",
    "            sales = int(base_sales[region][product] * month_factor * noise)\n",
    "            \n",
    "            # Calculate costs (approximately 60% of sales with some variation)\n",
    "            cost = int(sales * (0.6 + np.random.normal(0, 0.05)))\n",
    "            \n",
    "            # Add row to data\n",
    "            data.append({\n",
    "                'date': month,\n",
    "                'region': region,\n",
    "                'product': product,\n",
    "                'sales': sales,\n",
    "                'cost': cost,\n",
    "                'profit': sales - cost\n",
    "            })\n",
    "\n",
    "# Create DataFrame\n",
    "df = pd.DataFrame(data)\n",
    "\n",
    "# Display the first few rows\n",
    "df.head()"
   ]
  },
  {
   "cell_type": "code",
   "execution_count": null,
   "metadata": {},
   "outputs": [],
   "source": [
    "# Basic information about the DataFrame\n",
    "print(f\"DataFrame Shape: {df.shape}\")\n",
    "print(\"\\nData Types:\")\n",
    "print(df.dtypes)\n",
    "print(\"\\nSummary Statistics:\")\n",
    "df.describe()"
   ]
  },
  {
   "cell_type": "markdown",
   "metadata": {},
   "source": [
    "## Part 2: Slicing and Filtering Data\n",
    "\n",
    "Now let's demonstrate various ways to slice and filter the data."
   ]
  },
  {
   "cell_type": "code",
   "execution_count": null,
   "metadata": {},
   "outputs": [],
   "source": [
    "# 1. Filter by a single column\n",
    "# Get data for the North region only\n",
    "north_data = df[df['region'] == 'North']\n",
    "print(f\"North region data shape: {north_data.shape}\")\n",
    "north_data.head()"
   ]
  },
  {
   "cell_type": "code",
   "execution_count": null,
   "metadata": {},
   "outputs": [],
   "source": [
    "# 2. Filter by multiple conditions\n",
    "# Get data for Product A in the South region\n",
    "product_a_south = df[(df['product'] == 'Product A') & (df['region'] == 'South')]\n",
    "print(f\"Product A in South region data shape: {product_a_south.shape}\")\n",
    "product_a_south.head()"
   ]
  },
  {
   "cell_type": "code",
   "execution_count": null,
   "metadata": {},
   "outputs": [],
   "source": [
    "# 3. Filter by date range\n",
    "# Get data for Q1 2023 (Jan-Mar)\n",
    "q1_data = df[(df['date'] >= '2023-01-01') & (df['date'] <= '2023-03-31')]\n",
    "print(f\"Q1 data shape: {q1_data.shape}\")\n",
    "q1_data.head()"
   ]
  },
  {
   "cell_type": "code",
   "execution_count": null,
   "metadata": {},
   "outputs": [],
   "source": [
    "# 4. Select specific columns\n",
    "# Get only region, product, and profit columns\n",
    "profit_by_region_product = df[['region', 'product', 'profit']]\n",
    "profit_by_region_product.head()"
   ]
  },
  {
   "cell_type": "code",
   "execution_count": null,
   "metadata": {},
   "outputs": [],
   "source": [
    "# 5. Sort data\n",
    "# Get top 10 most profitable entries\n",
    "top_profit = df.sort_values('profit', ascending=False).head(10)\n",
    "top_profit[['date', 'region', 'product', 'profit']]"
   ]
  },
  {
   "cell_type": "code",
   "execution_count": null,
   "metadata": {},
   "outputs": [],
   "source": [
    "# 6. Aggregation by group\n",
    "# Calculate total sales, cost, and profit by region\n",
    "region_summary = df.groupby('region').agg({\n",
    "    'sales': 'sum',\n",
    "    'cost': 'sum',\n",
    "    'profit': 'sum'\n",
    "}).reset_index()\n",
    "\n",
    "# Add profit margin column\n",
    "region_summary['profit_margin'] = (region_summary['profit'] / region_summary['sales'] * 100).round(2)\n",
    "region_summary"
   ]
  },
  {
   "cell_type": "code",
   "execution_count": null,
   "metadata": {},
   "outputs": [],
   "source": [
    "# 7. Pivot table\n",
    "# Create pivot table of average profit by region and product\n",
    "pivot_table = pd.pivot_table(\n",
    "    df,\n",
    "    values='profit',\n",
    "    index='region',\n",
    "    columns='product',\n",
    "    aggfunc='mean'\n",
    ")\n",
    "\n",
    "# Round values for better readability\n",
    "pivot_table = pivot_table.round(2)\n",
    "pivot_table"
   ]
  },
  {
   "cell_type": "code",
   "execution_count": null,
   "metadata": {},
   "outputs": [],
   "source": [
    "# 8. Time-based aggregation\n",
    "# Monthly total sales\n",
    "df['month'] = df['date'].dt.strftime('%Y-%m')\n",
    "monthly_sales = df.groupby('month').agg({\n",
    "    'sales': 'sum',\n",
    "    'profit': 'sum'\n",
    "}).reset_index()\n",
    "monthly_sales"
   ]
  },
  {
   "cell_type": "code",
   "execution_count": null,
   "metadata": {},
   "outputs": [],
   "source": [
    "# 9. Custom calculations\n",
    "# Calculate profit contribution percentage by product\n",
    "product_profit = df.groupby('product')['profit'].sum().reset_index()\n",
    "total_profit = product_profit['profit'].sum()\n",
    "product_profit['contribution_percentage'] = (product_profit['profit'] / total_profit * 100).round(2)\n",
    "product_profit.sort_values('contribution_percentage', ascending=False)"
   ]
  },
  {
   "cell_type": "markdown",
   "metadata": {},
   "source": [
    "## Part 3: Visualizing Data\n",
    "\n",
    "Now let's create various visualizations to extract insights from the data."
   ]
  },
  {
   "cell_type": "code",
   "execution_count": null,
   "metadata": {},
   "outputs": [],
   "source": [
    "# 1. Bar chart: Total sales by region\n",
    "plt.figure(figsize=(10, 6))\n",
    "sns.barplot(x='region', y='sales', data=region_summary, palette='viridis')\n",
    "plt.title('Total Sales by Region', fontsize=14)\n",
    "plt.xlabel('Region', fontsize=12)\n",
    "plt.ylabel('Total Sales', fontsize=12)\n",
    "plt.xticks(fontsize=10)\n",
    "plt.yticks(fontsize=10)\n",
    "\n",
    "# Add value labels on top of bars\n",
    "for i, v in enumerate(region_summary['sales']):\n",
    "    plt.text(i, v + 500, f'{v:,}', ha='center', fontsize=10)\n",
    "    \n",
    "plt.tight_layout()\n",
    "plt.show()"
   ]
  },
  {
   "cell_type": "code",
   "execution_count": null,
   "metadata": {},
   "outputs": [],
   "source": [
    "# 2. Line chart: Monthly sales trend\n",
    "plt.figure(figsize=(12, 6))\n",
    "plt.plot(monthly_sales['month'], monthly_sales['sales'], marker='o', linewidth=2, markersize=8)\n",
    "plt.title('Monthly Sales Trend', fontsize=14)\n",
    "plt.xlabel('Month', fontsize=12)\n",
    "plt.ylabel('Total Sales', fontsize=12)\n",
    "plt.xticks(rotation=45, fontsize=10)\n",
    "plt.yticks(fontsize=10)\n",
    "plt.grid(True, alpha=0.3)\n",
    "plt.tight_layout()\n",
    "plt.show()"
   ]
  },
  {
   "cell_type": "code",
   "execution_count": null,
   "metadata": {},
   "outputs": [],
   "source": [
    "# 3. Pie chart: Profit contribution by product\n",
    "plt.figure(figsize=(8, 8))\n",
    "plt.pie(\n",
    "    product_profit['profit'], \n",
    "    labels=product_profit['product'],\n",
    "    autopct='%1.1f%%',\n",
    "    startangle=90,\n",
    "    shadow=True,\n",
    "    explode=[0.05, 0, 0],  # Slightly pull out the first slice\n",
    "    colors=sns.color_palette('viridis', len(product_profit))\n",
    ")\n",
    "plt.title('Profit Contribution by Product', fontsize=14)\n",
    "plt.axis('equal')  # Equal aspect ratio ensures that pie is drawn as a circle\n",
    "plt.tight_layout()\n",
    "plt.show()"
   ]
  },
  {
   "cell_type": "code",
   "execution_count": null,
   "metadata": {},
   "outputs": [],
   "source": [
    "# 4. Heatmap: Average profit by region and product\n",
    "plt.figure(figsize=(10, 6))\n",
    "sns.heatmap(\n",
    "    pivot_table,\n",
    "    annot=True,\n",
    "    fmt='.1f',\n",
    "    cmap='YlGnBu',\n",
    "    linewidths=0.5,\n",
    "    cbar_kws={'label': 'Average Profit'}\n",
    ")\n",
    "plt.title('Average Profit by Region and Product', fontsize=14)\n",
    "plt.tight_layout()\n",
    "plt.show()"
   ]
  },
  {
   "cell_type": "code",
   "execution_count": null,
   "metadata": {},
   "outputs": [],
   "source": [
    "# 5. Multiple line chart: Sales trend by product\n",
    "# First, aggregate the data by month and product\n",
    "product_monthly = df.groupby(['month', 'product'])['sales'].sum().reset_index()\n",
    "product_monthly_pivot = product_monthly.pivot(index='month', columns='product', values='sales')\n",
    "\n",
    "# Create the plot\n",
    "plt.figure(figsize=(12, 6))\n",
    "\n",
    "for product in products:\n",
    "    plt.plot(product_monthly_pivot.index, product_monthly_pivot[product], marker='o', linewidth=2, label=product)\n",
    "\n",
    "plt.title('Monthly Sales Trend by Product', fontsize=14)\n",
    "plt.xlabel('Month', fontsize=12)\n",
    "plt.ylabel('Total Sales', fontsize=12)\n",
    "plt.xticks(rotation=45, fontsize=10)\n",
    "plt.yticks(fontsize=10)\n",
    "plt.legend(title='Product', fontsize=10)\n",
    "plt.grid(True, alpha=0.3)\n",
    "plt.tight_layout()\n",
    "plt.show()"
   ]
  },
  {
   "cell_type": "code",
   "execution_count": null,
   "metadata": {},
   "outputs": [],
   "source": [
    "# 6. Stacked bar chart: Sales composition by region\n",
    "region_product_sales = df.groupby(['region', 'product'])['sales'].sum().reset_index()\n",
    "\n",
    "plt.figure(figsize=(12, 6))\n",
    "sns.barplot(x='region', y='sales', hue='product', data=region_product_sales, palette='viridis')\n",
    "plt.title('Sales Composition by Region and Product', fontsize=14)\n",
    "plt.xlabel('Region', fontsize=12)\n",
    "plt.ylabel('Total Sales', fontsize=12)\n",
    "plt.legend(title='Product', fontsize=10)\n",
    "plt.tight_layout()\n",
    "plt.show()"
   ]
  },
  {
   "cell_type": "code",
   "execution_count": null,
   "metadata": {},
   "outputs": [],
   "source": [
    "# 7. Box plot: Profit distribution by region\n",
    "plt.figure(figsize=(12, 6))\n",
    "sns.boxplot(x='region', y='profit', data=df, palette='viridis')\n",
    "plt.title('Profit Distribution by Region', fontsize=14)\n",
    "plt.xlabel('Region', fontsize=12)\n",
    "plt.ylabel('Profit', fontsize=12)\n",
    "plt.grid(True, alpha=0.3, axis='y')\n",
    "plt.tight_layout()\n",
    "plt.show()"
   ]
  },
  {
   "cell_type": "code",
   "execution_count": null,
   "metadata": {},
   "outputs": [],
   "source": [
    "# 8. Scatter plot: Sales vs. Profit\n",
    "plt.figure(figsize=(10, 6))\n",
    "sns.scatterplot(x='sales', y='profit', hue='product', size='cost', \n",
    "                sizes=(20, 200), alpha=0.7, palette='viridis', data=df)\n",
    "plt.title('Sales vs. Profit by Product', fontsize=14)\n",
    "plt.xlabel('Sales', fontsize=12)\n",
    "plt.ylabel('Profit', fontsize=12)\n",
    "plt.legend(title='Product', fontsize=10)\n",
    "plt.grid(True, alpha=0.3)\n",
    "plt.tight_layout()\n",
    "plt.show()"
   ]
  },
  {
   "cell_type": "markdown",
   "metadata": {},
   "source": [
    "## Part 4: Advanced Analysis and Insights"
   ]
  },
  {
   "cell_type": "code",
   "execution_count": null,
   "metadata": {},
   "outputs": [],
   "source": [
    "# 1. Calculate profit margin by region and product\n",
    "profit_analysis = df.groupby(['region', 'product']).agg({\n",
    "    'sales': 'sum',\n",
    "    'cost': 'sum',\n",
    "    'profit': 'sum'\n",
    "}).reset_index()\n",
    "\n",
    "profit_analysis['profit_margin'] = (profit_analysis['profit'] / profit_analysis['sales'] * 100).round(2)\n",
    "profit_analysis = profit_analysis.sort_values('profit_margin', ascending=False)\n",
    "\n",
    "print(\"Top 5 most profitable region-product combinations:\")\n",
    "profit_analysis.head(5)"
   ]
  },
  {
   "cell_type": "code",
   "execution_count": null,
   "metadata": {},
   "outputs": [],
   "source": [
    "# 2. Visualize profit margins\n",
    "plt.figure(figsize=(12, 6))\n",
    "chart = sns.barplot(x='region', y='profit_margin', hue='product', data=profit_analysis, palette='viridis')\n",
    "plt.title('Profit Margin by Region and Product', fontsize=14)\n",
    "plt.xlabel('Region', fontsize=12)\n",
    "plt.ylabel('Profit Margin (%)', fontsize=12)\n",
    "plt.legend(title='Product', fontsize=10)\n",
    "plt.grid(True, alpha=0.3, axis='y')\n",
    "\n",
    "# Add value labels\n",
    "for p in chart.patches:\n",
    "    chart.annotate(f'{p.get_height():.1f}%', \n",
    "                 (p.get_x() + p.get_width() / 2., p.get_height()), \n",
    "                 ha = 'center', va = 'bottom', \n",
    "                 xytext = (0, 5), textcoords = 'offset points')\n",
    "\n",
    "plt.tight_layout()\n",
    "plt.show()"
   ]
  },
  {
   "cell_type": "code",
   "execution_count": null,
   "metadata": {},
   "outputs": [],
   "source": [
    "# 3. Time series analysis - Seasonal decomposition\n",
    "# First, create a time series of total monthly sales\n",
    "monthly_sales_ts = monthly_sales.set_index('month')['sales']\n",
    "\n",
    "# Plot the time series\n",
    "plt.figure(figsize=(12, 6))\n",
    "monthly_sales_ts.plot()\n",
    "plt.title('Monthly Sales Time Series', fontsize=14)\n",
    "plt.xlabel('Month', fontsize=12)\n",
    "plt.ylabel('Total Sales', fontsize=12)\n",
    "plt.grid(True, alpha=0.3)\n",
    "plt.tight_layout()\n",
    "plt.show()\n",
    "\n",
    "# Calculate month-over-month growth rate\n",
    "monthly_sales['growth_rate'] = monthly_sales['sales'].pct_change() * 100\n",
    "print(\"\\nMonth-over-Month Growth Rate:\")\n",
    "monthly_sales[['month', 'sales', 'growth_rate']].dropna()"
   ]
  },
  {
   "cell_type": "code",
   "execution_count": null,
   "metadata": {},
   "outputs": [],
   "source": [
    "# 4. Correlation analysis\n",
    "# Look at correlation between sales, cost, and profit\n",
    "correlation = df[['sales', 'cost', 'profit']].corr()\n",
    "\n",
    "plt.figure(figsize=(8, 6))\n",
    "sns.heatmap(correlation, annot=True, cmap='coolwarm', vmin=-1, vmax=1, linewidths=0.5)\n",
    "plt.title('Correlation Matrix: Sales, Cost, and Profit', fontsize=14)\n",
    "plt.tight_layout()\n",
    "plt.show()"
   ]
  },
  {
   "cell_type": "code",
   "execution_count": null,
   "metadata": {},
   "outputs": [],
   "source": [
    "# 5. Identify top performers and growth opportunities\n",
    "# Identify the best and worst performing products by region\n",
    "best_products = profit_analysis.loc[profit_analysis.groupby('region')['profit'].idxmax()]\n",
    "worst_products = profit_analysis.loc[profit_analysis.groupby('region')['profit'].idxmin()]\n",
    "\n",
    "print(\"Best performing products by region:\")\n",
    "best_products[['region', 'product', 'profit', 'profit_margin']]\n"
   ]
  },
  {
   "cell_type": "code",
   "execution_count": null,
   "metadata": {},
   "outputs": [],
   "source": [
    "print(\"Worst performing products by region:\")\n",
    "worst_products[['region', 'product', 'profit', 'profit_margin']]"
   ]
  },
  {
   "cell_type": "markdown",
   "metadata": {},
   "source": [
    "## Summary of Key Insights\n",
    "\n",
    "Based on the analysis above, here are the key insights:\n",
    "\n",
    "1. **Regional Performance**: The [insert best performing region] region has the highest total sales, while the [insert best profit margin region] region shows the best profit margins.\n",
    "\n",
    "2. **Product Performance**: [Insert best product] contributes the most to overall profits, with a [insert percentage]% contribution.\n",
    "\n",
    "3. **Seasonal Trends**: Sales show [describe seasonal pattern] throughout the year, with peaks in [insert peak months] and troughs in [insert trough months].\n",
    "\n",
    "4. **Growth Opportunities**: The [insert region-product with low margin but high sales] combination shows potential for margin improvement, while [insert region-product with high margin but low sales] might benefit from increased marketing efforts to drive sales volume.\n",
    "\n",
    "5. **Cost Structure**: There's a [strong/moderate/weak] correlation between sales and costs, indicating [efficient/inefficient] cost management across products and regions.\n",
    "\n",
    "[Fill in the blanks based on the actual visualization results when running the notebook]"
   ]
  }
 ],
 "metadata": {
  "kernelspec": {
   "display_name": "Python 3",
   "language": "python",
   "name": "python3"
  },
  "language_info": {
   "codemirror_mode": {
    "name": "ipython",
    "version": 3
   },
   "file_extension": ".py",
   "mimetype": "text/x-python",
   "name": "python",
   "nbconvert_exporter": "python",
   "pygments_lexer": "ipython3",
   "version": "3.8.10"
  }
 },
 "nbformat": 4,
 "nbformat_minor": 4
}
